{
 "cells": [
  {
   "cell_type": "code",
   "execution_count": 1,
   "id": "4656c0a6",
   "metadata": {},
   "outputs": [],
   "source": [
    "# Import dependancies\n",
    "import numpy as np\n",
    "\n",
    "import sqlalchemy\n",
    "from sqlalchemy.ext.automap import automap_base\n",
    "from sqlalchemy.orm import Session\n",
    "from sqlalchemy import create_engine, func, inspect\n",
    "\n",
    "# Import Flask\n",
    "from flask import Flask, jsonify"
   ]
  },
  {
   "cell_type": "code",
   "execution_count": 2,
   "id": "283ee488",
   "metadata": {},
   "outputs": [],
   "source": [
    "# Create engine to the database\n",
    "engine = create_engine(\"sqlite:///hawaii.sqlite\")\n",
    "\n",
    "# Reflect the existing database into a new model\n",
    "Base = automap_base()\n",
    "\n",
    "# Reflect the tables\n",
    "Base.prepare(autoload_with=engine)\n",
    "\n",
    "# Save reference to the table\n",
    "Measurement = Base.classes.measurement\n",
    "Station = Base.classes.station"
   ]
  },
  {
   "cell_type": "code",
   "execution_count": 3,
   "id": "9de36417",
   "metadata": {},
   "outputs": [
    {
     "name": "stdout",
     "output_type": "stream",
     "text": [
      "id INTEGER\n",
      "station TEXT\n",
      "date TEXT\n",
      "prcp FLOAT\n",
      "tobs FLOAT\n"
     ]
    }
   ],
   "source": [
    "inspector = inspect(engine)\n",
    "\n",
    "columns = inspector.get_columns('Measurement')\n",
    "for column in columns:\n",
    "    print(column[\"name\"], column[\"type\"])"
   ]
  },
  {
   "cell_type": "code",
   "execution_count": 4,
   "id": "4909a0a4",
   "metadata": {},
   "outputs": [
    {
     "name": "stdout",
     "output_type": "stream",
     "text": [
      "id INTEGER\n",
      "station TEXT\n",
      "name TEXT\n",
      "latitude FLOAT\n",
      "longitude FLOAT\n",
      "elevation FLOAT\n"
     ]
    }
   ],
   "source": [
    "columns = inspector.get_columns('Station')\n",
    "for column in columns:\n",
    "    print(column[\"name\"], column[\"type\"])"
   ]
  },
  {
   "cell_type": "code",
   "execution_count": 28,
   "id": "d9eddf89",
   "metadata": {},
   "outputs": [],
   "source": [
    "def precipitation():\n",
    "\n",
    "    # Open the session\n",
    "    session = Session(engine)\n",
    "\n",
    "    # Create the date variable\n",
    "    start_date = '2016-08-23'\n",
    "    \n",
    "    # Create a list to hold sum of precipitation score\n",
    "    sum_prcp = [Measurement.date, func.sum(Measurement.prcp)]\n",
    "\n",
    "    # Start the query\n",
    "    prcp_results = session.query(*sum_prcp).filter(Measurement.date >= start_date).group_by(Measurement.date).all()\n",
    "\n",
    "    # Close the session\n",
    "    session.close()\n",
    "    \n",
    "    # Convert results to a dictionairy\n",
    "    # is this the correct way to do this - i found an answer with a different way of doing this\n",
    "    results_list = []\n",
    "    if isinstance(date, datetime):\n",
    "        date = date.strftime(\"%Y-%m-%d\"),\n",
    "        results_list.append({\"date\": date, \"precipitation\": prcp})    \n",
    "        \n",
    "    # Jsonify the results\n",
    "    return jsonify(results_list)  \n"
   ]
  },
  {
   "cell_type": "code",
   "execution_count": 29,
   "id": "51bb00cb",
   "metadata": {},
   "outputs": [],
   "source": [
    "# def precipitation():\n",
    "#     # Create our session (link) from Python to the DB\n",
    "#     session = Session(engine)\n",
    "    \n",
    "#     start_date = '2016-08-23'\n",
    "#     sel = [Measurement.date, \n",
    "#         func.sum(Measurement.prcp)]\n",
    "#     precipitation = session.query(*sel).\\\n",
    "#             filter(Measurement.date >= start_date).\\\n",
    "#             group_by(Measurement.date).\\\n",
    "#             order_by(Measurement.date).all()\n",
    "   \n",
    "#     session.close()\n",
    "\n",
    "#     # Return a dictionary with the date as key and the daily precipitation total as value\n",
    "#     precipitation_dates = []\n",
    "#     precipitation_totals = []\n",
    "\n",
    "#     for date, dailytotal in precipitation:\n",
    "#         precipitation_dates.append(date)\n",
    "#         precipitation_totals.append(dailytotal)\n",
    "    \n",
    "#     precipitation_dict = dict(zip(precipitation_dates, precipitation_totals))\n",
    "\n",
    "#     return jsonify(precipitation_dict)\n",
    "#     precipitation_dict"
   ]
  },
  {
   "cell_type": "code",
   "execution_count": 33,
   "id": "3d8fb323",
   "metadata": {},
   "outputs": [],
   "source": [
    "def stations():\n",
    "\n",
    "    # Open the session\n",
    "    session = Session(engine)\n",
    "\n",
    "    # Bring back the station names\n",
    "    stations = session.query(Station.station).distinct().all()\n",
    "\n",
    "    # Close the session\n",
    "    session.close()\n",
    "    \n",
    "    #Extract the station names from the results\n",
    "    station_names = [{\"station_name\": station[0]} for station in stations]\n",
    "\n",
    "    # Jsonify the results\n",
    "    return jsonify(station_names)\n"
   ]
  },
  {
   "cell_type": "code",
   "execution_count": 26,
   "id": "1fcccfc7",
   "metadata": {},
   "outputs": [
    {
     "data": {
      "text/plain": [
       "['USC00519397',\n",
       " 'USC00513117',\n",
       " 'USC00514830',\n",
       " 'USC00517948',\n",
       " 'USC00518838',\n",
       " 'USC00519523',\n",
       " 'USC00519281',\n",
       " 'USC00511918',\n",
       " 'USC00516128']"
      ]
     },
     "execution_count": 26,
     "metadata": {},
     "output_type": "execute_result"
    }
   ],
   "source": [
    "session = Session(engine)\n",
    "stations = session.query(Station.station).distinct().all()\n",
    "session.close()\n",
    "station_names = [station[0] for station in stations]\n",
    "station_names"
   ]
  },
  {
   "cell_type": "code",
   "execution_count": 31,
   "id": "508bd93c",
   "metadata": {},
   "outputs": [],
   "source": [
    "def tobs():\n",
    "    # Open the session\n",
    "    session = Session(engine)\n",
    "\n",
    "    # Create the variables\n",
    "    station = \"USC00519281\"\n",
    "    start_date = '2016-08-18'\n",
    "\n",
    "    # Start the query\n",
    "    tobs_results = session.query(Measurement.date, Measurement.tobs).filter(Measurement.date >= start_date, Measurement.station == station).all()\n",
    "\n",
    "    # Close the session\n",
    "    session.close()\n",
    "\n",
    "    # Jsonify the results\n",
    "    return jsonify(tobs_results)\n",
    "    tobs_results"
   ]
  },
  {
   "cell_type": "code",
   "execution_count": null,
   "id": "a0c96ec1",
   "metadata": {},
   "outputs": [],
   "source": [
    "def start():\n",
    "    # Open the session\n",
    "    session = Session(engine)  \n",
    "\n",
    "    # Define the start date    \n",
    "    date = '2015-08-18'\n",
    "\n",
    "    # Calculate the highest temperature\n",
    "    highest_temp = session.query(func.max(Measurement.tobs)).filter(Measurement.date >= date).scalar()\n",
    "\n",
    "    # Calculate the lowest temperature\n",
    "    lowest_temp = session.query(func.min(Measurement.tobs)).filter(Measurement.date >= date).scalar()\n",
    "\n",
    "    # Calculate the average temperature\n",
    "    avg_temp = session.query(func.avg(Measurement.tobs)).filter(Measurement.date >= date).scalar()\n",
    "\n",
    "    # Close the session\n",
    "    session.close()\n",
    "\n",
    "    # Add the results to a list\n",
    "    results = [lowest_temp, highest_temp, avg_temp]\n",
    "\n",
    "    # Jsonify the list\n",
    "    return jsonify(results)"
   ]
  },
  {
   "cell_type": "code",
   "execution_count": null,
   "id": "9f9de91e",
   "metadata": {},
   "outputs": [],
   "source": []
  }
 ],
 "metadata": {
  "kernelspec": {
   "display_name": "Python 3 (ipykernel)",
   "language": "python",
   "name": "python3"
  },
  "language_info": {
   "codemirror_mode": {
    "name": "ipython",
    "version": 3
   },
   "file_extension": ".py",
   "mimetype": "text/x-python",
   "name": "python",
   "nbconvert_exporter": "python",
   "pygments_lexer": "ipython3",
   "version": "3.7.7"
  }
 },
 "nbformat": 4,
 "nbformat_minor": 5
}
